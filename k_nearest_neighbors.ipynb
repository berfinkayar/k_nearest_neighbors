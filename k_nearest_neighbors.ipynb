{
 "cells": [
  {
   "cell_type": "markdown",
   "id": "f4f9c895",
   "metadata": {},
   "source": [
    "## K-Nearest Neighbors Classification"
   ]
  },
  {
   "cell_type": "markdown",
   "id": "57ffde87",
   "metadata": {},
   "source": [
    "k-Nearest Neighbors algorithm is a simple, easy to implement supervised machine learning algorithm that can be used for both classification  and regression problems.\n",
    "kNN algorithm uses ‘feature similarity’ to predict the values of new datapoints which further means that the new data point will be assigned a value based on how closely it matches the points in the training set. "
   ]
  },
  {
   "cell_type": "code",
   "execution_count": 1,
   "id": "87e82037",
   "metadata": {},
   "outputs": [],
   "source": [
    "import matplotlib.pyplot as plt\n",
    "import numpy as np\n",
    "import pandas as pd\n",
    "import os\n",
    "import copy\n",
    "from math import sqrt\n",
    "np.random.seed(35819)"
   ]
  },
  {
   "cell_type": "code",
   "execution_count": 2,
   "id": "6fe08ca7",
   "metadata": {},
   "outputs": [],
   "source": [
    "def csv_to_nparr(file_name: str):\n",
    "    csv_content = pd.read_csv('glass.csv')\n",
    "    print(csv_content)\n",
    "    return np.array(csv_content)\n"
   ]
  },
  {
   "cell_type": "markdown",
   "id": "43313842",
   "metadata": {},
   "source": [
    "For kNN algorithm, if one of the variables is in the range of 1000's and another is in the range of 0.1's, the first variable would dominate the distance quite significantly. Therefore we're normalizing the values by transforming them to the range of [0,1]."
   ]
  },
  {
   "cell_type": "code",
   "execution_count": 3,
   "id": "b509ed8f",
   "metadata": {},
   "outputs": [],
   "source": [
    "def normalize_dataset(datalist: np.array):\n",
    "    for i in range(np.size(datalist, 1) - 1):\n",
    "        datalist[:,i] = (datalist[:,i] - datalist[:,i].min()) / (datalist[:,i].max() - datalist[:,i].min())"
   ]
  },
  {
   "cell_type": "markdown",
   "id": "74c1cad9",
   "metadata": {},
   "source": [
    "We're using euclidean distance for calculating distance between neighbors."
   ]
  },
  {
   "cell_type": "code",
   "execution_count": 4,
   "id": "05e2b5e2",
   "metadata": {},
   "outputs": [],
   "source": [
    "def calc_distance(firstRow, secondRow):\n",
    "    sum = 0\n",
    "    for i in range(len(firstRow)-1):\n",
    "        sum += (firstRow[i]-secondRow[i])**2\n",
    "    return sqrt(sum)"
   ]
  },
  {
   "cell_type": "markdown",
   "id": "b44c9b7e",
   "metadata": {},
   "source": [
    "## Glass Material Classification"
   ]
  },
  {
   "cell_type": "markdown",
   "id": "f21e8b64",
   "metadata": {},
   "source": [
    "At the first step, we need to prepare our dataset for training and testing. First, we're shuffling and normalizing our dataset. Later on, we will split our dataset according to 5-fold cross validation."
   ]
  },
  {
   "cell_type": "code",
   "execution_count": 5,
   "id": "f49b9e6f",
   "metadata": {
    "scrolled": true
   },
   "outputs": [
    {
     "name": "stdout",
     "output_type": "stream",
     "text": [
      "          RI     Na    Mg    Al     Si     K    Ca    Ba   Fe  Type\n",
      "0    1.52101  13.64  4.49  1.10  71.78  0.06  8.75  0.00  0.0     1\n",
      "1    1.51761  13.89  3.60  1.36  72.73  0.48  7.83  0.00  0.0     1\n",
      "2    1.51618  13.53  3.55  1.54  72.99  0.39  7.78  0.00  0.0     1\n",
      "3    1.51766  13.21  3.69  1.29  72.61  0.57  8.22  0.00  0.0     1\n",
      "4    1.51742  13.27  3.62  1.24  73.08  0.55  8.07  0.00  0.0     1\n",
      "..       ...    ...   ...   ...    ...   ...   ...   ...  ...   ...\n",
      "209  1.51623  14.14  0.00  2.88  72.61  0.08  9.18  1.06  0.0     7\n",
      "210  1.51685  14.92  0.00  1.99  73.06  0.00  8.40  1.59  0.0     7\n",
      "211  1.52065  14.36  0.00  2.02  73.42  0.00  8.44  1.64  0.0     7\n",
      "212  1.51651  14.38  0.00  1.94  73.61  0.00  8.48  1.57  0.0     7\n",
      "213  1.51711  14.23  0.00  2.08  73.36  0.00  8.62  1.67  0.0     7\n",
      "\n",
      "[214 rows x 10 columns]\n"
     ]
    }
   ],
   "source": [
    "#Preparing data for 5-fold cross validation\n",
    "data_arr = csv_to_nparr(\"glass.csv\")\n",
    "np.random.shuffle(data_arr)\n",
    "non_nm_data_arr = data_arr.copy() # we're using it later"
   ]
  },
  {
   "cell_type": "code",
   "execution_count": 6,
   "id": "17291564",
   "metadata": {
    "scrolled": false
   },
   "outputs": [
    {
     "name": "stdout",
     "output_type": "stream",
     "text": [
      "[[0.31474978 0.39097744 0.74387528 ... 0.         0.         3.        ]\n",
      " [0.34679543 0.43157895 0.80623608 ... 0.         0.         1.        ]\n",
      " [0.44161545 0.4962406  0.83741648 ... 0.         0.         3.        ]\n",
      " ...\n",
      " [0.30070237 0.4481203  0.8752784  ... 0.         0.29411765 2.        ]\n",
      " [0.32309043 0.37142857 0.80846325 ... 0.02857143 0.33333333 2.        ]\n",
      " [0.25987709 0.41353383 0.77505568 ... 0.         0.         2.        ]]\n"
     ]
    }
   ],
   "source": [
    "normalize_dataset(data_arr)\n",
    "print(data_arr)"
   ]
  },
  {
   "cell_type": "markdown",
   "id": "30d952cf",
   "metadata": {},
   "source": [
    "Now, we're going to visualize two features at our dataset to show how kNN works. We're choosing RI and Na attributes for this visualization. As we can see from this graph, there is an obvious clustering of same colored points at several places in the plot. "
   ]
  },
  {
   "cell_type": "code",
   "execution_count": 7,
   "id": "1c84d58b",
   "metadata": {
    "scrolled": false
   },
   "outputs": [
    {
     "data": {
      "image/png": "[encoded data removed]",
      "text/plain": [
       "<Figure size 432x288 with 1 Axes>"
      ]
     },
     "metadata": {
      "needs_background": "light"
     },
     "output_type": "display_data"
    }
   ],
   "source": [
    "plt.scatter(x=data_arr[:,0],\n",
    "            y=data_arr[:,1],\n",
    "            c=data_arr[:, -1])\n",
    "plt.xlabel(\"RI\")\n",
    "plt.ylabel(\"Na\")\n",
    "plt.title(\"Scatter plot of min-max normalized RI and Na features\")\n",
    "plt.show()"
   ]
  },
  {
   "cell_type": "markdown",
   "id": "e872593b",
   "metadata": {},
   "source": [
    "Implementing our non-weighted and weighted kNN functions. Non-weighted one returns the most frequent class value among the k-nearest neighbors. Weighted one sums up the inverse of the distances of the same classes so that closest neighbors will have greater weight."
   ]
  },
  {
   "cell_type": "code",
   "execution_count": 8,
   "id": "6071eaa6",
   "metadata": {},
   "outputs": [],
   "source": [
    "def kNN(test, trainingdata, k):\n",
    "    column = [calc_distance(row,test) for row in trainingdata] #adding all distances to a list\n",
    "    trainingdata = np.column_stack((trainingdata, column)) #adding this list to training data as a column\n",
    "    trainingdata = trainingdata[np.argsort(trainingdata[:, -1])] #sorting the training data by distance\n",
    "    nearestNeighbors = []\n",
    "    for i in range(k):\n",
    "        nearestNeighbors.append(copy.copy(trainingdata[i])) #getting k nearest neighbors\n",
    "    trainingdata = np.delete(trainingdata, 0, -1) #converting the training data into its old version\n",
    "    return nearestNeighbors"
   ]
  },
  {
   "cell_type": "code",
   "execution_count": 9,
   "id": "f1c59bb0",
   "metadata": {},
   "outputs": [],
   "source": [
    "def predict(test, trainingdata, k):\n",
    "    neighbors = kNN(test, trainingdata, k)\n",
    "    output = [row[-2] for row in neighbors] #adding predictions into a list\n",
    "    return max(set(output), key=output.count) #returning the most predicted value"
   ]
  },
  {
   "cell_type": "code",
   "execution_count": 10,
   "id": "772712b9",
   "metadata": {},
   "outputs": [],
   "source": [
    "def predictWeighted(test, trainingdata, k):\n",
    "    neighbors = kNN(test, trainingdata, k)\n",
    "    weights = {}\n",
    "    for row in neighbors:\n",
    "        if row[-2] in weights:\n",
    "            weights[row[-2]] += 1/row[-1] if row[-1] != 0 else 0 #adding all predictions into a dictionary  \n",
    "        else:                                                    #and summing the same classes' weights up \n",
    "            weights[row[-2]] = 1/row[-1] if row[-1] != 0 else 0\n",
    "    return max(weights, key=lambda key: weights[key]) #returning the class with the highest weight"
   ]
  },
  {
   "cell_type": "code",
   "execution_count": null,
   "id": "504a1a77",
   "metadata": {},
   "outputs": [],
   "source": [
    "def accuracy(weighted, tests, train, k):\n",
    "        accurate = 0\n",
    "        for test in tests:\n",
    "            if weighted:\n",
    "                if predictWeighted(test, train, k) == test[len(test)-1]: #comparing the predicted value and real value\n",
    "                    accurate += 1\n",
    "            else:\n",
    "                if predict(test, train, k) == test[len(test)-1]:\n",
    "                    accurate += 1\n",
    "        return ((accurate/len(tests))*100)"
   ]
  },
  {
   "cell_type": "markdown",
   "id": "2a739163",
   "metadata": {},
   "source": [
    "For our 5 fold cross validation algorithm, our test data's length is going to be the one fifth of the total data and the interval is going to change each time. And our training data is going to be the concatenation of total data's starting point to test data's starting point and test data's ending point to total data's ending point. We're going to test this 5 test set according to the 5 training set and take the average of their accuracy values."
   ]
  },
  {
   "cell_type": "code",
   "execution_count": 12,
   "id": "6908016e",
   "metadata": {},
   "outputs": [],
   "source": [
    "def kfold(datalist, k: int, weighted=False):\n",
    "    j = len(datalist) // 5\n",
    "    sum = 0\n",
    "    for i in range(5):\n",
    "        train = np.concatenate((datalist[:i*j,:],datalist[i*j+j:,:]), axis=0) \n",
    "        tests = datalist[i * j: i * j + j, :]\n",
    "        sum += accuracy(weighted, tests, train, k)\n",
    "    return sum/5"
   ]
  },
  {
   "cell_type": "markdown",
   "id": "23c7cdc7",
   "metadata": {},
   "source": [
    "We've implemented the functions for kNN and 5-fold cross validation. Now, it's time to determine the most optimal k value for our kNN algorithm. First, we want to observe how the kNN accuracy grows by k values. We're visualizing the accuracy for all k values from 1 to 50."
   ]
  },
  {
   "cell_type": "code",
   "execution_count": 13,
   "id": "8a723bd4",
   "metadata": {},
   "outputs": [],
   "source": [
    "accuracy_values = np.empty((50,))\n",
    "x_axis_values = np.arange(1, 51)\n",
    "\n",
    "for kval in range(1, 51):\n",
    "    accuracy_values[kval-1] = kfold(data_arr, kval)"
   ]
  },
  {
   "cell_type": "code",
   "execution_count": 14,
   "id": "d28b7985",
   "metadata": {},
   "outputs": [
    {
     "data": {
      "image/png": "[encoded data removed]",
      "text/plain": [
       "<Figure size 432x288 with 1 Axes>"
      ]
     },
     "metadata": {
      "needs_background": "light"
     },
     "output_type": "display_data"
    }
   ],
   "source": [
    "plt.plot(x_axis_values, accuracy_values)\n",
    "plt.show()"
   ]
  },
  {
   "cell_type": "markdown",
   "id": "ec900507",
   "metadata": {},
   "source": [
    "According to the plot the best choice for the k value is between 1 and 10, and we won't use any even k-number for eliminating the risk of vote tie during the process of computing kNN algorithm."
   ]
  },
  {
   "cell_type": "code",
   "execution_count": 15,
   "id": "5ee185bb",
   "metadata": {},
   "outputs": [],
   "source": [
    "accuracy_values = np.empty((5,))\n",
    "x_axis_values = np.arange(1, 10, 2)\n",
    "\n",
    "for i, kval in enumerate(range(1, 10, 2)):\n",
    "    accuracy_values[i] = kfold(data_arr, kval)"
   ]
  },
  {
   "cell_type": "code",
   "execution_count": 16,
   "id": "74c97dd3",
   "metadata": {
    "scrolled": true
   },
   "outputs": [
    {
     "data": {
      "image/png": "[encoded data removed]",
      "text/plain": [
       "<Figure size 432x288 with 1 Axes>"
      ]
     },
     "metadata": {
      "needs_background": "light"
     },
     "output_type": "display_data"
    }
   ],
   "source": [
    "plt.plot(x_axis_values, accuracy_values, marker=\"o\")\n",
    "plt.show()"
   ]
  },
  {
   "cell_type": "markdown",
   "id": "eacc99a2",
   "metadata": {},
   "source": [
    "By looking at the plot, we can clearly see 1 and 3 are the best choices for our k value. Now, let's calculate it for the weighted kNN algorithm."
   ]
  },
  {
   "cell_type": "code",
   "execution_count": 17,
   "id": "3935f120",
   "metadata": {},
   "outputs": [],
   "source": [
    "accuracy_values = np.empty((5,))\n",
    "x_axis_values = np.arange(1, 10, 2)\n",
    "\n",
    "for i, kval in enumerate(range(1, 10, 2)):\n",
    "    accuracy_values[i] = kfold(data_arr, kval, weighted=True)"
   ]
  },
  {
   "cell_type": "code",
   "execution_count": 18,
   "id": "84133c88",
   "metadata": {
    "scrolled": true
   },
   "outputs": [
    {
     "data": {
      "image/png": "[encoded data removed]",
      "text/plain": [
       "<Figure size 432x288 with 1 Axes>"
      ]
     },
     "metadata": {
      "needs_background": "light"
     },
     "output_type": "display_data"
    }
   ],
   "source": [
    "plt.plot(x_axis_values, accuracy_values, marker=\"o\")\n",
    "plt.show()"
   ]
  },
  {
   "cell_type": "markdown",
   "id": "77342038",
   "metadata": {},
   "source": [
    "We have a different plotting this time and the optimal k values are 3 and 5. As the k value increases, accuracy is decreasing."
   ]
  },
  {
   "cell_type": "markdown",
   "id": "e61fe164",
   "metadata": {},
   "source": [
    "## Error Analysis for Classification"
   ]
  },
  {
   "cell_type": "markdown",
   "id": "21d0db83",
   "metadata": {},
   "source": [
    "\n",
    "Now, we'll see how important normalization is. We're going to try to make a prediction by using normalized and non-normalized datasets and compare them."
   ]
  },
  {
   "cell_type": "code",
   "execution_count": 19,
   "id": "d3c9c890",
   "metadata": {},
   "outputs": [
    {
     "name": "stdout",
     "output_type": "stream",
     "text": [
      "69.52380952380952\n"
     ]
    }
   ],
   "source": [
    "print(kfold(data_arr, 3))"
   ]
  },
  {
   "cell_type": "code",
   "execution_count": 20,
   "id": "ee3c2120",
   "metadata": {},
   "outputs": [
    {
     "name": "stdout",
     "output_type": "stream",
     "text": [
      "66.66666666666667\n"
     ]
    }
   ],
   "source": [
    "print(kfold(non_nm_data_arr, 3))"
   ]
  },
  {
   "cell_type": "markdown",
   "id": "8a421cf7",
   "metadata": {},
   "source": [
    "We can see how kNN is affected by normalization. The accuracy rate had decreased from 69% to 66% Now, we're comparing non-weighted kNN with weighted kNN."
   ]
  },
  {
   "cell_type": "code",
   "execution_count": 21,
   "id": "fb583799",
   "metadata": {},
   "outputs": [
    {
     "name": "stdout",
     "output_type": "stream",
     "text": [
      "70.47619047619048\n",
      "69.04761904761904\n"
     ]
    }
   ],
   "source": [
    "print(kfold(data_arr, 3, weighted=True))\n",
    "print(kfold(non_nm_data_arr, 3, weighted=True))"
   ]
  },
  {
   "cell_type": "markdown",
   "id": "a04af6f4",
   "metadata": {},
   "source": [
    " It seems that weighted kNN worked better for both our test sets. We can come to the conclusion that giving more importance to the nearer neighbors is a better choice for the classification problem. "
   ]
  }
 ],
 "metadata": {
  "interpreter": {
   "hash": "e8ee52e26650204a08c885461d142fd8f9417f3debf9f56bc8c004b34840a697"
  },
  "kernelspec": {
   "display_name": "Python 3",
   "language": "python",
   "name": "python3"
  },
  "language_info": {
   "codemirror_mode": {
    "name": "ipython",
    "version": 3
   },
   "file_extension": ".py",
   "mimetype": "text/x-python",
   "name": "python",
   "nbconvert_exporter": "python",
   "pygments_lexer": "ipython3",
   "version": "3.8.8"
  }
 },
 "nbformat": 4,
 "nbformat_minor": 5
}
